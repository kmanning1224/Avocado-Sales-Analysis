{
 "cells": [
  {
   "cell_type": "code",
   "execution_count": 91,
   "metadata": {},
   "outputs": [],
   "source": [
    "import warnings\n",
    "warnings.filterwarnings('ignore')\n",
    "import matplotlib.pyplot as plt\n",
    "import pandas as pd\n",
    "import numpy as np\n",
    "import scipy.stats as st\n",
    "import scipy.stats as stats\n",
    "from scipy.stats import linregress\n",
    "pd.options.mode.chained_assignment = None "
   ]
  },
  {
   "cell_type": "code",
   "execution_count": 92,
   "metadata": {},
   "outputs": [
    {
     "ename": "FileNotFoundError",
     "evalue": "[Errno 2] File Project Resources/Avocado.csv does not exist: 'Project Resources/Avocado.csv'",
     "output_type": "error",
     "traceback": [
      "\u001b[0;31m---------------------------------------------------------------------------\u001b[0m",
      "\u001b[0;31mFileNotFoundError\u001b[0m                         Traceback (most recent call last)",
      "\u001b[0;32m<ipython-input-92-eb6c305a4934>\u001b[0m in \u001b[0;36m<module>\u001b[0;34m\u001b[0m\n\u001b[0;32m----> 1\u001b[0;31m \u001b[0mavocado\u001b[0m \u001b[0;34m=\u001b[0m \u001b[0mpd\u001b[0m\u001b[0;34m.\u001b[0m\u001b[0mread_csv\u001b[0m\u001b[0;34m(\u001b[0m\u001b[0;34m\"Project Resources/Avocado.csv\"\u001b[0m\u001b[0;34m)\u001b[0m\u001b[0;34m\u001b[0m\u001b[0;34m\u001b[0m\u001b[0m\n\u001b[0m\u001b[1;32m      2\u001b[0m \u001b[0mavocado\u001b[0m\u001b[0;34m.\u001b[0m\u001b[0mhead\u001b[0m\u001b[0;34m(\u001b[0m\u001b[0;34m)\u001b[0m\u001b[0;34m\u001b[0m\u001b[0;34m\u001b[0m\u001b[0m\n",
      "\u001b[0;32m~/opt/anaconda3/envs/PythonData/lib/python3.6/site-packages/pandas/io/parsers.py\u001b[0m in \u001b[0;36mparser_f\u001b[0;34m(filepath_or_buffer, sep, delimiter, header, names, index_col, usecols, squeeze, prefix, mangle_dupe_cols, dtype, engine, converters, true_values, false_values, skipinitialspace, skiprows, skipfooter, nrows, na_values, keep_default_na, na_filter, verbose, skip_blank_lines, parse_dates, infer_datetime_format, keep_date_col, date_parser, dayfirst, cache_dates, iterator, chunksize, compression, thousands, decimal, lineterminator, quotechar, quoting, doublequote, escapechar, comment, encoding, dialect, error_bad_lines, warn_bad_lines, delim_whitespace, low_memory, memory_map, float_precision)\u001b[0m\n\u001b[1;32m    674\u001b[0m         )\n\u001b[1;32m    675\u001b[0m \u001b[0;34m\u001b[0m\u001b[0m\n\u001b[0;32m--> 676\u001b[0;31m         \u001b[0;32mreturn\u001b[0m \u001b[0m_read\u001b[0m\u001b[0;34m(\u001b[0m\u001b[0mfilepath_or_buffer\u001b[0m\u001b[0;34m,\u001b[0m \u001b[0mkwds\u001b[0m\u001b[0;34m)\u001b[0m\u001b[0;34m\u001b[0m\u001b[0;34m\u001b[0m\u001b[0m\n\u001b[0m\u001b[1;32m    677\u001b[0m \u001b[0;34m\u001b[0m\u001b[0m\n\u001b[1;32m    678\u001b[0m     \u001b[0mparser_f\u001b[0m\u001b[0;34m.\u001b[0m\u001b[0m__name__\u001b[0m \u001b[0;34m=\u001b[0m \u001b[0mname\u001b[0m\u001b[0;34m\u001b[0m\u001b[0;34m\u001b[0m\u001b[0m\n",
      "\u001b[0;32m~/opt/anaconda3/envs/PythonData/lib/python3.6/site-packages/pandas/io/parsers.py\u001b[0m in \u001b[0;36m_read\u001b[0;34m(filepath_or_buffer, kwds)\u001b[0m\n\u001b[1;32m    446\u001b[0m \u001b[0;34m\u001b[0m\u001b[0m\n\u001b[1;32m    447\u001b[0m     \u001b[0;31m# Create the parser.\u001b[0m\u001b[0;34m\u001b[0m\u001b[0;34m\u001b[0m\u001b[0;34m\u001b[0m\u001b[0m\n\u001b[0;32m--> 448\u001b[0;31m     \u001b[0mparser\u001b[0m \u001b[0;34m=\u001b[0m \u001b[0mTextFileReader\u001b[0m\u001b[0;34m(\u001b[0m\u001b[0mfp_or_buf\u001b[0m\u001b[0;34m,\u001b[0m \u001b[0;34m**\u001b[0m\u001b[0mkwds\u001b[0m\u001b[0;34m)\u001b[0m\u001b[0;34m\u001b[0m\u001b[0;34m\u001b[0m\u001b[0m\n\u001b[0m\u001b[1;32m    449\u001b[0m \u001b[0;34m\u001b[0m\u001b[0m\n\u001b[1;32m    450\u001b[0m     \u001b[0;32mif\u001b[0m \u001b[0mchunksize\u001b[0m \u001b[0;32mor\u001b[0m \u001b[0miterator\u001b[0m\u001b[0;34m:\u001b[0m\u001b[0;34m\u001b[0m\u001b[0;34m\u001b[0m\u001b[0m\n",
      "\u001b[0;32m~/opt/anaconda3/envs/PythonData/lib/python3.6/site-packages/pandas/io/parsers.py\u001b[0m in \u001b[0;36m__init__\u001b[0;34m(self, f, engine, **kwds)\u001b[0m\n\u001b[1;32m    878\u001b[0m             \u001b[0mself\u001b[0m\u001b[0;34m.\u001b[0m\u001b[0moptions\u001b[0m\u001b[0;34m[\u001b[0m\u001b[0;34m\"has_index_names\"\u001b[0m\u001b[0;34m]\u001b[0m \u001b[0;34m=\u001b[0m \u001b[0mkwds\u001b[0m\u001b[0;34m[\u001b[0m\u001b[0;34m\"has_index_names\"\u001b[0m\u001b[0;34m]\u001b[0m\u001b[0;34m\u001b[0m\u001b[0;34m\u001b[0m\u001b[0m\n\u001b[1;32m    879\u001b[0m \u001b[0;34m\u001b[0m\u001b[0m\n\u001b[0;32m--> 880\u001b[0;31m         \u001b[0mself\u001b[0m\u001b[0;34m.\u001b[0m\u001b[0m_make_engine\u001b[0m\u001b[0;34m(\u001b[0m\u001b[0mself\u001b[0m\u001b[0;34m.\u001b[0m\u001b[0mengine\u001b[0m\u001b[0;34m)\u001b[0m\u001b[0;34m\u001b[0m\u001b[0;34m\u001b[0m\u001b[0m\n\u001b[0m\u001b[1;32m    881\u001b[0m \u001b[0;34m\u001b[0m\u001b[0m\n\u001b[1;32m    882\u001b[0m     \u001b[0;32mdef\u001b[0m \u001b[0mclose\u001b[0m\u001b[0;34m(\u001b[0m\u001b[0mself\u001b[0m\u001b[0;34m)\u001b[0m\u001b[0;34m:\u001b[0m\u001b[0;34m\u001b[0m\u001b[0;34m\u001b[0m\u001b[0m\n",
      "\u001b[0;32m~/opt/anaconda3/envs/PythonData/lib/python3.6/site-packages/pandas/io/parsers.py\u001b[0m in \u001b[0;36m_make_engine\u001b[0;34m(self, engine)\u001b[0m\n\u001b[1;32m   1112\u001b[0m     \u001b[0;32mdef\u001b[0m \u001b[0m_make_engine\u001b[0m\u001b[0;34m(\u001b[0m\u001b[0mself\u001b[0m\u001b[0;34m,\u001b[0m \u001b[0mengine\u001b[0m\u001b[0;34m=\u001b[0m\u001b[0;34m\"c\"\u001b[0m\u001b[0;34m)\u001b[0m\u001b[0;34m:\u001b[0m\u001b[0;34m\u001b[0m\u001b[0;34m\u001b[0m\u001b[0m\n\u001b[1;32m   1113\u001b[0m         \u001b[0;32mif\u001b[0m \u001b[0mengine\u001b[0m \u001b[0;34m==\u001b[0m \u001b[0;34m\"c\"\u001b[0m\u001b[0;34m:\u001b[0m\u001b[0;34m\u001b[0m\u001b[0;34m\u001b[0m\u001b[0m\n\u001b[0;32m-> 1114\u001b[0;31m             \u001b[0mself\u001b[0m\u001b[0;34m.\u001b[0m\u001b[0m_engine\u001b[0m \u001b[0;34m=\u001b[0m \u001b[0mCParserWrapper\u001b[0m\u001b[0;34m(\u001b[0m\u001b[0mself\u001b[0m\u001b[0;34m.\u001b[0m\u001b[0mf\u001b[0m\u001b[0;34m,\u001b[0m \u001b[0;34m**\u001b[0m\u001b[0mself\u001b[0m\u001b[0;34m.\u001b[0m\u001b[0moptions\u001b[0m\u001b[0;34m)\u001b[0m\u001b[0;34m\u001b[0m\u001b[0;34m\u001b[0m\u001b[0m\n\u001b[0m\u001b[1;32m   1115\u001b[0m         \u001b[0;32melse\u001b[0m\u001b[0;34m:\u001b[0m\u001b[0;34m\u001b[0m\u001b[0;34m\u001b[0m\u001b[0m\n\u001b[1;32m   1116\u001b[0m             \u001b[0;32mif\u001b[0m \u001b[0mengine\u001b[0m \u001b[0;34m==\u001b[0m \u001b[0;34m\"python\"\u001b[0m\u001b[0;34m:\u001b[0m\u001b[0;34m\u001b[0m\u001b[0;34m\u001b[0m\u001b[0m\n",
      "\u001b[0;32m~/opt/anaconda3/envs/PythonData/lib/python3.6/site-packages/pandas/io/parsers.py\u001b[0m in \u001b[0;36m__init__\u001b[0;34m(self, src, **kwds)\u001b[0m\n\u001b[1;32m   1889\u001b[0m         \u001b[0mkwds\u001b[0m\u001b[0;34m[\u001b[0m\u001b[0;34m\"usecols\"\u001b[0m\u001b[0;34m]\u001b[0m \u001b[0;34m=\u001b[0m \u001b[0mself\u001b[0m\u001b[0;34m.\u001b[0m\u001b[0musecols\u001b[0m\u001b[0;34m\u001b[0m\u001b[0;34m\u001b[0m\u001b[0m\n\u001b[1;32m   1890\u001b[0m \u001b[0;34m\u001b[0m\u001b[0m\n\u001b[0;32m-> 1891\u001b[0;31m         \u001b[0mself\u001b[0m\u001b[0;34m.\u001b[0m\u001b[0m_reader\u001b[0m \u001b[0;34m=\u001b[0m \u001b[0mparsers\u001b[0m\u001b[0;34m.\u001b[0m\u001b[0mTextReader\u001b[0m\u001b[0;34m(\u001b[0m\u001b[0msrc\u001b[0m\u001b[0;34m,\u001b[0m \u001b[0;34m**\u001b[0m\u001b[0mkwds\u001b[0m\u001b[0;34m)\u001b[0m\u001b[0;34m\u001b[0m\u001b[0;34m\u001b[0m\u001b[0m\n\u001b[0m\u001b[1;32m   1892\u001b[0m         \u001b[0mself\u001b[0m\u001b[0;34m.\u001b[0m\u001b[0munnamed_cols\u001b[0m \u001b[0;34m=\u001b[0m \u001b[0mself\u001b[0m\u001b[0;34m.\u001b[0m\u001b[0m_reader\u001b[0m\u001b[0;34m.\u001b[0m\u001b[0munnamed_cols\u001b[0m\u001b[0;34m\u001b[0m\u001b[0;34m\u001b[0m\u001b[0m\n\u001b[1;32m   1893\u001b[0m \u001b[0;34m\u001b[0m\u001b[0m\n",
      "\u001b[0;32mpandas/_libs/parsers.pyx\u001b[0m in \u001b[0;36mpandas._libs.parsers.TextReader.__cinit__\u001b[0;34m()\u001b[0m\n",
      "\u001b[0;32mpandas/_libs/parsers.pyx\u001b[0m in \u001b[0;36mpandas._libs.parsers.TextReader._setup_parser_source\u001b[0;34m()\u001b[0m\n",
      "\u001b[0;31mFileNotFoundError\u001b[0m: [Errno 2] File Project Resources/Avocado.csv does not exist: 'Project Resources/Avocado.csv'"
     ]
    }
   ],
   "source": [
    "avocado = pd.read_csv(\"Project Resources/Avocado.csv\")\n",
    "avocado.head()"
   ]
  },
  {
   "cell_type": "code",
   "execution_count": 90,
   "metadata": {},
   "outputs": [
    {
     "ename": "FileNotFoundError",
     "evalue": "[Errno 2] File Project Resources/Hass.csv does not exist: 'Project Resources/Hass.csv'",
     "output_type": "error",
     "traceback": [
      "\u001b[0;31m---------------------------------------------------------------------------\u001b[0m",
      "\u001b[0;31mFileNotFoundError\u001b[0m                         Traceback (most recent call last)",
      "\u001b[0;32m<ipython-input-90-868ef69e7d18>\u001b[0m in \u001b[0;36m<module>\u001b[0;34m\u001b[0m\n\u001b[0;32m----> 1\u001b[0;31m \u001b[0mhass2020\u001b[0m \u001b[0;34m=\u001b[0m \u001b[0mpd\u001b[0m\u001b[0;34m.\u001b[0m\u001b[0mread_csv\u001b[0m\u001b[0;34m(\u001b[0m\u001b[0;34m\"Project Resources/Hass.csv\"\u001b[0m\u001b[0;34m,\u001b[0m \u001b[0mthousands\u001b[0m\u001b[0;34m=\u001b[0m\u001b[0;34m','\u001b[0m\u001b[0;34m)\u001b[0m\u001b[0;34m\u001b[0m\u001b[0;34m\u001b[0m\u001b[0m\n\u001b[0m\u001b[1;32m      2\u001b[0m hass2020[\"Week\"] = pd.to_datetime(hass2020[\"Week\"], infer_datetime_format=True, \n\u001b[1;32m      3\u001b[0m                                   format=\"%Y/%m/%d\")\n\u001b[1;32m      4\u001b[0m \u001b[0mhass2020\u001b[0m\u001b[0;34m[\u001b[0m\u001b[0;34m'Total Volume'\u001b[0m\u001b[0;34m]\u001b[0m \u001b[0;34m=\u001b[0m \u001b[0mpd\u001b[0m\u001b[0;34m.\u001b[0m\u001b[0mto_numeric\u001b[0m\u001b[0;34m(\u001b[0m\u001b[0mhass2020\u001b[0m\u001b[0;34m[\u001b[0m\u001b[0;34m'Total Volume'\u001b[0m\u001b[0;34m]\u001b[0m\u001b[0;34m)\u001b[0m\u001b[0;34m\u001b[0m\u001b[0;34m\u001b[0m\u001b[0m\n\u001b[1;32m      5\u001b[0m \u001b[0mhass2020\u001b[0m\u001b[0;34m[\u001b[0m\u001b[0;34m'California'\u001b[0m\u001b[0;34m]\u001b[0m \u001b[0;34m=\u001b[0m \u001b[0mpd\u001b[0m\u001b[0;34m.\u001b[0m\u001b[0mto_numeric\u001b[0m\u001b[0;34m(\u001b[0m\u001b[0mhass2020\u001b[0m\u001b[0;34m[\u001b[0m\u001b[0;34m'California'\u001b[0m\u001b[0;34m]\u001b[0m\u001b[0;34m)\u001b[0m\u001b[0;34m\u001b[0m\u001b[0;34m\u001b[0m\u001b[0m\n",
      "\u001b[0;32m~/opt/anaconda3/envs/PythonData/lib/python3.6/site-packages/pandas/io/parsers.py\u001b[0m in \u001b[0;36mparser_f\u001b[0;34m(filepath_or_buffer, sep, delimiter, header, names, index_col, usecols, squeeze, prefix, mangle_dupe_cols, dtype, engine, converters, true_values, false_values, skipinitialspace, skiprows, skipfooter, nrows, na_values, keep_default_na, na_filter, verbose, skip_blank_lines, parse_dates, infer_datetime_format, keep_date_col, date_parser, dayfirst, cache_dates, iterator, chunksize, compression, thousands, decimal, lineterminator, quotechar, quoting, doublequote, escapechar, comment, encoding, dialect, error_bad_lines, warn_bad_lines, delim_whitespace, low_memory, memory_map, float_precision)\u001b[0m\n\u001b[1;32m    674\u001b[0m         )\n\u001b[1;32m    675\u001b[0m \u001b[0;34m\u001b[0m\u001b[0m\n\u001b[0;32m--> 676\u001b[0;31m         \u001b[0;32mreturn\u001b[0m \u001b[0m_read\u001b[0m\u001b[0;34m(\u001b[0m\u001b[0mfilepath_or_buffer\u001b[0m\u001b[0;34m,\u001b[0m \u001b[0mkwds\u001b[0m\u001b[0;34m)\u001b[0m\u001b[0;34m\u001b[0m\u001b[0;34m\u001b[0m\u001b[0m\n\u001b[0m\u001b[1;32m    677\u001b[0m \u001b[0;34m\u001b[0m\u001b[0m\n\u001b[1;32m    678\u001b[0m     \u001b[0mparser_f\u001b[0m\u001b[0;34m.\u001b[0m\u001b[0m__name__\u001b[0m \u001b[0;34m=\u001b[0m \u001b[0mname\u001b[0m\u001b[0;34m\u001b[0m\u001b[0;34m\u001b[0m\u001b[0m\n",
      "\u001b[0;32m~/opt/anaconda3/envs/PythonData/lib/python3.6/site-packages/pandas/io/parsers.py\u001b[0m in \u001b[0;36m_read\u001b[0;34m(filepath_or_buffer, kwds)\u001b[0m\n\u001b[1;32m    446\u001b[0m \u001b[0;34m\u001b[0m\u001b[0m\n\u001b[1;32m    447\u001b[0m     \u001b[0;31m# Create the parser.\u001b[0m\u001b[0;34m\u001b[0m\u001b[0;34m\u001b[0m\u001b[0;34m\u001b[0m\u001b[0m\n\u001b[0;32m--> 448\u001b[0;31m     \u001b[0mparser\u001b[0m \u001b[0;34m=\u001b[0m \u001b[0mTextFileReader\u001b[0m\u001b[0;34m(\u001b[0m\u001b[0mfp_or_buf\u001b[0m\u001b[0;34m,\u001b[0m \u001b[0;34m**\u001b[0m\u001b[0mkwds\u001b[0m\u001b[0;34m)\u001b[0m\u001b[0;34m\u001b[0m\u001b[0;34m\u001b[0m\u001b[0m\n\u001b[0m\u001b[1;32m    449\u001b[0m \u001b[0;34m\u001b[0m\u001b[0m\n\u001b[1;32m    450\u001b[0m     \u001b[0;32mif\u001b[0m \u001b[0mchunksize\u001b[0m \u001b[0;32mor\u001b[0m \u001b[0miterator\u001b[0m\u001b[0;34m:\u001b[0m\u001b[0;34m\u001b[0m\u001b[0;34m\u001b[0m\u001b[0m\n",
      "\u001b[0;32m~/opt/anaconda3/envs/PythonData/lib/python3.6/site-packages/pandas/io/parsers.py\u001b[0m in \u001b[0;36m__init__\u001b[0;34m(self, f, engine, **kwds)\u001b[0m\n\u001b[1;32m    878\u001b[0m             \u001b[0mself\u001b[0m\u001b[0;34m.\u001b[0m\u001b[0moptions\u001b[0m\u001b[0;34m[\u001b[0m\u001b[0;34m\"has_index_names\"\u001b[0m\u001b[0;34m]\u001b[0m \u001b[0;34m=\u001b[0m \u001b[0mkwds\u001b[0m\u001b[0;34m[\u001b[0m\u001b[0;34m\"has_index_names\"\u001b[0m\u001b[0;34m]\u001b[0m\u001b[0;34m\u001b[0m\u001b[0;34m\u001b[0m\u001b[0m\n\u001b[1;32m    879\u001b[0m \u001b[0;34m\u001b[0m\u001b[0m\n\u001b[0;32m--> 880\u001b[0;31m         \u001b[0mself\u001b[0m\u001b[0;34m.\u001b[0m\u001b[0m_make_engine\u001b[0m\u001b[0;34m(\u001b[0m\u001b[0mself\u001b[0m\u001b[0;34m.\u001b[0m\u001b[0mengine\u001b[0m\u001b[0;34m)\u001b[0m\u001b[0;34m\u001b[0m\u001b[0;34m\u001b[0m\u001b[0m\n\u001b[0m\u001b[1;32m    881\u001b[0m \u001b[0;34m\u001b[0m\u001b[0m\n\u001b[1;32m    882\u001b[0m     \u001b[0;32mdef\u001b[0m \u001b[0mclose\u001b[0m\u001b[0;34m(\u001b[0m\u001b[0mself\u001b[0m\u001b[0;34m)\u001b[0m\u001b[0;34m:\u001b[0m\u001b[0;34m\u001b[0m\u001b[0;34m\u001b[0m\u001b[0m\n",
      "\u001b[0;32m~/opt/anaconda3/envs/PythonData/lib/python3.6/site-packages/pandas/io/parsers.py\u001b[0m in \u001b[0;36m_make_engine\u001b[0;34m(self, engine)\u001b[0m\n\u001b[1;32m   1112\u001b[0m     \u001b[0;32mdef\u001b[0m \u001b[0m_make_engine\u001b[0m\u001b[0;34m(\u001b[0m\u001b[0mself\u001b[0m\u001b[0;34m,\u001b[0m \u001b[0mengine\u001b[0m\u001b[0;34m=\u001b[0m\u001b[0;34m\"c\"\u001b[0m\u001b[0;34m)\u001b[0m\u001b[0;34m:\u001b[0m\u001b[0;34m\u001b[0m\u001b[0;34m\u001b[0m\u001b[0m\n\u001b[1;32m   1113\u001b[0m         \u001b[0;32mif\u001b[0m \u001b[0mengine\u001b[0m \u001b[0;34m==\u001b[0m \u001b[0;34m\"c\"\u001b[0m\u001b[0;34m:\u001b[0m\u001b[0;34m\u001b[0m\u001b[0;34m\u001b[0m\u001b[0m\n\u001b[0;32m-> 1114\u001b[0;31m             \u001b[0mself\u001b[0m\u001b[0;34m.\u001b[0m\u001b[0m_engine\u001b[0m \u001b[0;34m=\u001b[0m \u001b[0mCParserWrapper\u001b[0m\u001b[0;34m(\u001b[0m\u001b[0mself\u001b[0m\u001b[0;34m.\u001b[0m\u001b[0mf\u001b[0m\u001b[0;34m,\u001b[0m \u001b[0;34m**\u001b[0m\u001b[0mself\u001b[0m\u001b[0;34m.\u001b[0m\u001b[0moptions\u001b[0m\u001b[0;34m)\u001b[0m\u001b[0;34m\u001b[0m\u001b[0;34m\u001b[0m\u001b[0m\n\u001b[0m\u001b[1;32m   1115\u001b[0m         \u001b[0;32melse\u001b[0m\u001b[0;34m:\u001b[0m\u001b[0;34m\u001b[0m\u001b[0;34m\u001b[0m\u001b[0m\n\u001b[1;32m   1116\u001b[0m             \u001b[0;32mif\u001b[0m \u001b[0mengine\u001b[0m \u001b[0;34m==\u001b[0m \u001b[0;34m\"python\"\u001b[0m\u001b[0;34m:\u001b[0m\u001b[0;34m\u001b[0m\u001b[0;34m\u001b[0m\u001b[0m\n",
      "\u001b[0;32m~/opt/anaconda3/envs/PythonData/lib/python3.6/site-packages/pandas/io/parsers.py\u001b[0m in \u001b[0;36m__init__\u001b[0;34m(self, src, **kwds)\u001b[0m\n\u001b[1;32m   1889\u001b[0m         \u001b[0mkwds\u001b[0m\u001b[0;34m[\u001b[0m\u001b[0;34m\"usecols\"\u001b[0m\u001b[0;34m]\u001b[0m \u001b[0;34m=\u001b[0m \u001b[0mself\u001b[0m\u001b[0;34m.\u001b[0m\u001b[0musecols\u001b[0m\u001b[0;34m\u001b[0m\u001b[0;34m\u001b[0m\u001b[0m\n\u001b[1;32m   1890\u001b[0m \u001b[0;34m\u001b[0m\u001b[0m\n\u001b[0;32m-> 1891\u001b[0;31m         \u001b[0mself\u001b[0m\u001b[0;34m.\u001b[0m\u001b[0m_reader\u001b[0m \u001b[0;34m=\u001b[0m \u001b[0mparsers\u001b[0m\u001b[0;34m.\u001b[0m\u001b[0mTextReader\u001b[0m\u001b[0;34m(\u001b[0m\u001b[0msrc\u001b[0m\u001b[0;34m,\u001b[0m \u001b[0;34m**\u001b[0m\u001b[0mkwds\u001b[0m\u001b[0;34m)\u001b[0m\u001b[0;34m\u001b[0m\u001b[0;34m\u001b[0m\u001b[0m\n\u001b[0m\u001b[1;32m   1892\u001b[0m         \u001b[0mself\u001b[0m\u001b[0;34m.\u001b[0m\u001b[0munnamed_cols\u001b[0m \u001b[0;34m=\u001b[0m \u001b[0mself\u001b[0m\u001b[0;34m.\u001b[0m\u001b[0m_reader\u001b[0m\u001b[0;34m.\u001b[0m\u001b[0munnamed_cols\u001b[0m\u001b[0;34m\u001b[0m\u001b[0;34m\u001b[0m\u001b[0m\n\u001b[1;32m   1893\u001b[0m \u001b[0;34m\u001b[0m\u001b[0m\n",
      "\u001b[0;32mpandas/_libs/parsers.pyx\u001b[0m in \u001b[0;36mpandas._libs.parsers.TextReader.__cinit__\u001b[0;34m()\u001b[0m\n",
      "\u001b[0;32mpandas/_libs/parsers.pyx\u001b[0m in \u001b[0;36mpandas._libs.parsers.TextReader._setup_parser_source\u001b[0;34m()\u001b[0m\n",
      "\u001b[0;31mFileNotFoundError\u001b[0m: [Errno 2] File Project Resources/Hass.csv does not exist: 'Project Resources/Hass.csv'"
     ]
    }
   ],
   "source": [
    "hass2020 = pd.read_csv(\"Project Resources/Hass.csv\", thousands=',')\n",
    "hass2020[\"Week\"] = pd.to_datetime(hass2020[\"Week\"], infer_datetime_format=True, \n",
    "                                  format=\"%Y/%m/%d\")\n",
    "hass2020['Total Volume'] = pd.to_numeric(hass2020['Total Volume'])\n",
    "hass2020['California'] = pd.to_numeric(hass2020['California'])\n",
    "hass2020['Chile'] = pd.to_numeric(hass2020['Chile'])\n",
    "hass2020['Mexico'] = pd.to_numeric(hass2020['Mexico'])\n",
    "hass2020['Peru'] = pd.to_numeric(hass2020['Peru'])\n",
    "hass2020['Colombia'] = pd.to_numeric(hass2020['Colombia'])\n",
    "hass2020.head()"
   ]
  },
  {
   "cell_type": "code",
   "execution_count": 7,
   "metadata": {},
   "outputs": [
    {
     "data": {
      "text/plain": [
       "Week            datetime64[ns]\n",
       "Status                  object\n",
       "Total Volume             int64\n",
       "California               int64\n",
       "Chile                    int64\n",
       "Mexico                   int64\n",
       "Peru                     int64\n",
       "Colombia                 int64\n",
       "dtype: object"
      ]
     },
     "execution_count": 7,
     "metadata": {},
     "output_type": "execute_result"
    }
   ],
   "source": [
    "hass2020.dtypes"
   ]
  },
  {
   "cell_type": "code",
   "execution_count": 8,
   "metadata": {},
   "outputs": [
    {
     "data": {
      "text/html": [
       "<div>\n",
       "<style scoped>\n",
       "    .dataframe tbody tr th:only-of-type {\n",
       "        vertical-align: middle;\n",
       "    }\n",
       "\n",
       "    .dataframe tbody tr th {\n",
       "        vertical-align: top;\n",
       "    }\n",
       "\n",
       "    .dataframe thead th {\n",
       "        text-align: right;\n",
       "    }\n",
       "</style>\n",
       "<table border=\"1\" class=\"dataframe\">\n",
       "  <thead>\n",
       "    <tr style=\"text-align: right;\">\n",
       "      <th></th>\n",
       "      <th>Week</th>\n",
       "      <th>Status</th>\n",
       "      <th>Total Volume</th>\n",
       "      <th>California</th>\n",
       "      <th>Chile</th>\n",
       "      <th>Mexico</th>\n",
       "      <th>Peru</th>\n",
       "      <th>Colombia</th>\n",
       "    </tr>\n",
       "  </thead>\n",
       "  <tbody>\n",
       "    <tr>\n",
       "      <th>0</th>\n",
       "      <td>2017-01-01</td>\n",
       "      <td>Actual</td>\n",
       "      <td>35100521</td>\n",
       "      <td>49737</td>\n",
       "      <td>1023459</td>\n",
       "      <td>34027325</td>\n",
       "      <td>0</td>\n",
       "      <td>0</td>\n",
       "    </tr>\n",
       "    <tr>\n",
       "      <th>1</th>\n",
       "      <td>2017-01-08</td>\n",
       "      <td>Actual</td>\n",
       "      <td>40920289</td>\n",
       "      <td>157060</td>\n",
       "      <td>1526467</td>\n",
       "      <td>39236762</td>\n",
       "      <td>0</td>\n",
       "      <td>0</td>\n",
       "    </tr>\n",
       "    <tr>\n",
       "      <th>2</th>\n",
       "      <td>2017-01-15</td>\n",
       "      <td>Actual</td>\n",
       "      <td>53723606</td>\n",
       "      <td>215612</td>\n",
       "      <td>1468592</td>\n",
       "      <td>52039402</td>\n",
       "      <td>0</td>\n",
       "      <td>0</td>\n",
       "    </tr>\n",
       "    <tr>\n",
       "      <th>3</th>\n",
       "      <td>2017-01-22</td>\n",
       "      <td>Actual</td>\n",
       "      <td>55606793</td>\n",
       "      <td>827113</td>\n",
       "      <td>1445898</td>\n",
       "      <td>53333782</td>\n",
       "      <td>0</td>\n",
       "      <td>0</td>\n",
       "    </tr>\n",
       "    <tr>\n",
       "      <th>4</th>\n",
       "      <td>2017-01-29</td>\n",
       "      <td>Actual</td>\n",
       "      <td>44287021</td>\n",
       "      <td>1027998</td>\n",
       "      <td>1111063</td>\n",
       "      <td>42147960</td>\n",
       "      <td>0</td>\n",
       "      <td>0</td>\n",
       "    </tr>\n",
       "  </tbody>\n",
       "</table>\n",
       "</div>"
      ],
      "text/plain": [
       "        Week  Status  Total Volume  California    Chile    Mexico  Peru  \\\n",
       "0 2017-01-01  Actual      35100521       49737  1023459  34027325     0   \n",
       "1 2017-01-08  Actual      40920289      157060  1526467  39236762     0   \n",
       "2 2017-01-15  Actual      53723606      215612  1468592  52039402     0   \n",
       "3 2017-01-22  Actual      55606793      827113  1445898  53333782     0   \n",
       "4 2017-01-29  Actual      44287021     1027998  1111063  42147960     0   \n",
       "\n",
       "   Colombia  \n",
       "0         0  \n",
       "1         0  \n",
       "2         0  \n",
       "3         0  \n",
       "4         0  "
      ]
     },
     "execution_count": 8,
     "metadata": {},
     "output_type": "execute_result"
    }
   ],
   "source": [
    "hass2017 =pd.read_csv(\"Project Resources/2017_Volume_Hass.csv\", thousands=',')\n",
    "hass2017[\"Week\"] = pd.to_datetime(hass2017[\"Week\"], infer_datetime_format=True, \n",
    "                                  format=\"%Y/%m/%d\")\n",
    "hass2017['Total Volume'] = pd.to_numeric(hass2017['Total Volume'])\n",
    "hass2017['California'] = pd.to_numeric(hass2017['California'])\n",
    "hass2017['Chile'] = pd.to_numeric(hass2017['Chile'])\n",
    "hass2017['Mexico'] = pd.to_numeric(hass2017['Mexico'])\n",
    "hass2017['Peru'] = pd.to_numeric(hass2017['Peru'])\n",
    "hass2017['Colombia'] = pd.to_numeric(hass2017['Colombia'])\n",
    "hass2017.head()"
   ]
  },
  {
   "cell_type": "code",
   "execution_count": 9,
   "metadata": {},
   "outputs": [
    {
     "data": {
      "text/plain": [
       "Week            datetime64[ns]\n",
       "Status                  object\n",
       "Total Volume             int64\n",
       "California               int64\n",
       "Chile                    int64\n",
       "Mexico                   int64\n",
       "Peru                     int64\n",
       "Colombia                 int64\n",
       "dtype: object"
      ]
     },
     "execution_count": 9,
     "metadata": {},
     "output_type": "execute_result"
    }
   ],
   "source": [
    "hass2017.dtypes"
   ]
  },
  {
   "cell_type": "code",
   "execution_count": 10,
   "metadata": {},
   "outputs": [
    {
     "data": {
      "text/html": [
       "<div>\n",
       "<style scoped>\n",
       "    .dataframe tbody tr th:only-of-type {\n",
       "        vertical-align: middle;\n",
       "    }\n",
       "\n",
       "    .dataframe tbody tr th {\n",
       "        vertical-align: top;\n",
       "    }\n",
       "\n",
       "    .dataframe thead th {\n",
       "        text-align: right;\n",
       "    }\n",
       "</style>\n",
       "<table border=\"1\" class=\"dataframe\">\n",
       "  <thead>\n",
       "    <tr style=\"text-align: right;\">\n",
       "      <th></th>\n",
       "      <th>Week</th>\n",
       "      <th>Status</th>\n",
       "      <th>Total Volume</th>\n",
       "      <th>California</th>\n",
       "      <th>Chile</th>\n",
       "      <th>Mexico</th>\n",
       "      <th>Peru</th>\n",
       "      <th>Colombia</th>\n",
       "    </tr>\n",
       "  </thead>\n",
       "  <tbody>\n",
       "    <tr>\n",
       "      <th>0</th>\n",
       "      <td>2018-01-07</td>\n",
       "      <td>Actual</td>\n",
       "      <td>45670156</td>\n",
       "      <td>899349</td>\n",
       "      <td>519433</td>\n",
       "      <td>44251374</td>\n",
       "      <td>0</td>\n",
       "      <td>0</td>\n",
       "    </tr>\n",
       "    <tr>\n",
       "      <th>1</th>\n",
       "      <td>2018-01-14</td>\n",
       "      <td>Actual</td>\n",
       "      <td>52758905</td>\n",
       "      <td>830821</td>\n",
       "      <td>449003</td>\n",
       "      <td>51479081</td>\n",
       "      <td>0</td>\n",
       "      <td>0</td>\n",
       "    </tr>\n",
       "    <tr>\n",
       "      <th>2</th>\n",
       "      <td>2018-01-21</td>\n",
       "      <td>Actual</td>\n",
       "      <td>54698266</td>\n",
       "      <td>2913663</td>\n",
       "      <td>445127</td>\n",
       "      <td>51339476</td>\n",
       "      <td>0</td>\n",
       "      <td>0</td>\n",
       "    </tr>\n",
       "    <tr>\n",
       "      <th>3</th>\n",
       "      <td>2018-01-28</td>\n",
       "      <td>Actual</td>\n",
       "      <td>45299201</td>\n",
       "      <td>2698356</td>\n",
       "      <td>95491</td>\n",
       "      <td>42505354</td>\n",
       "      <td>0</td>\n",
       "      <td>0</td>\n",
       "    </tr>\n",
       "    <tr>\n",
       "      <th>4</th>\n",
       "      <td>2018-02-04</td>\n",
       "      <td>Actual</td>\n",
       "      <td>47371481</td>\n",
       "      <td>2635471</td>\n",
       "      <td>0</td>\n",
       "      <td>44736010</td>\n",
       "      <td>0</td>\n",
       "      <td>0</td>\n",
       "    </tr>\n",
       "  </tbody>\n",
       "</table>\n",
       "</div>"
      ],
      "text/plain": [
       "        Week  Status  Total Volume  California   Chile    Mexico  Peru  \\\n",
       "0 2018-01-07  Actual      45670156      899349  519433  44251374     0   \n",
       "1 2018-01-14  Actual      52758905      830821  449003  51479081     0   \n",
       "2 2018-01-21  Actual      54698266     2913663  445127  51339476     0   \n",
       "3 2018-01-28  Actual      45299201     2698356   95491  42505354     0   \n",
       "4 2018-02-04  Actual      47371481     2635471       0  44736010     0   \n",
       "\n",
       "   Colombia  \n",
       "0         0  \n",
       "1         0  \n",
       "2         0  \n",
       "3         0  \n",
       "4         0  "
      ]
     },
     "execution_count": 10,
     "metadata": {},
     "output_type": "execute_result"
    }
   ],
   "source": [
    "hass2018 =pd.read_csv(\"Project Resources/2018_Volume_Hass.csv\", thousands=',')\n",
    "hass2018[\"Week\"] = pd.to_datetime(hass2018[\"Week\"], infer_datetime_format=True, \n",
    "                                  format=\"%Y/%m/%d\")\n",
    "hass2018['Total Volume'] = pd.to_numeric(hass2018['Total Volume'])\n",
    "hass2018['California'] = pd.to_numeric(hass2018['California'])\n",
    "hass2018['Chile'] = pd.to_numeric(hass2018['Chile'])\n",
    "hass2018['Mexico'] = pd.to_numeric(hass2018['Mexico'])\n",
    "hass2018['Peru'] = pd.to_numeric(hass2018['Peru'])\n",
    "hass2018['Colombia'] = pd.to_numeric(hass2018['Colombia'])\n",
    "hass2018.head()"
   ]
  },
  {
   "cell_type": "code",
   "execution_count": 11,
   "metadata": {},
   "outputs": [
    {
     "data": {
      "text/html": [
       "<div>\n",
       "<style scoped>\n",
       "    .dataframe tbody tr th:only-of-type {\n",
       "        vertical-align: middle;\n",
       "    }\n",
       "\n",
       "    .dataframe tbody tr th {\n",
       "        vertical-align: top;\n",
       "    }\n",
       "\n",
       "    .dataframe thead th {\n",
       "        text-align: right;\n",
       "    }\n",
       "</style>\n",
       "<table border=\"1\" class=\"dataframe\">\n",
       "  <thead>\n",
       "    <tr style=\"text-align: right;\">\n",
       "      <th></th>\n",
       "      <th>Week</th>\n",
       "      <th>Status</th>\n",
       "      <th>Total Volume</th>\n",
       "      <th>California</th>\n",
       "      <th>Chile</th>\n",
       "      <th>Mexico</th>\n",
       "      <th>Peru</th>\n",
       "      <th>Colombia</th>\n",
       "    </tr>\n",
       "  </thead>\n",
       "  <tbody>\n",
       "    <tr>\n",
       "      <th>0</th>\n",
       "      <td>2019-01-06</td>\n",
       "      <td>Actual</td>\n",
       "      <td>39644522</td>\n",
       "      <td>0</td>\n",
       "      <td>1111244</td>\n",
       "      <td>38533278</td>\n",
       "      <td>0</td>\n",
       "      <td>0</td>\n",
       "    </tr>\n",
       "    <tr>\n",
       "      <th>1</th>\n",
       "      <td>2019-01-13</td>\n",
       "      <td>Actual</td>\n",
       "      <td>73115987</td>\n",
       "      <td>71558</td>\n",
       "      <td>1154459</td>\n",
       "      <td>71889970</td>\n",
       "      <td>0</td>\n",
       "      <td>0</td>\n",
       "    </tr>\n",
       "    <tr>\n",
       "      <th>2</th>\n",
       "      <td>2019-01-20</td>\n",
       "      <td>Actual</td>\n",
       "      <td>73262502</td>\n",
       "      <td>35452</td>\n",
       "      <td>681725</td>\n",
       "      <td>72545325</td>\n",
       "      <td>0</td>\n",
       "      <td>0</td>\n",
       "    </tr>\n",
       "    <tr>\n",
       "      <th>3</th>\n",
       "      <td>2019-01-27</td>\n",
       "      <td>Actual</td>\n",
       "      <td>59200492</td>\n",
       "      <td>306018</td>\n",
       "      <td>676866</td>\n",
       "      <td>58217608</td>\n",
       "      <td>0</td>\n",
       "      <td>0</td>\n",
       "    </tr>\n",
       "    <tr>\n",
       "      <th>4</th>\n",
       "      <td>2019-02-03</td>\n",
       "      <td>Actual</td>\n",
       "      <td>45231823</td>\n",
       "      <td>225945</td>\n",
       "      <td>584756</td>\n",
       "      <td>44421122</td>\n",
       "      <td>0</td>\n",
       "      <td>0</td>\n",
       "    </tr>\n",
       "  </tbody>\n",
       "</table>\n",
       "</div>"
      ],
      "text/plain": [
       "        Week  Status  Total Volume  California    Chile    Mexico  Peru  \\\n",
       "0 2019-01-06  Actual      39644522           0  1111244  38533278     0   \n",
       "1 2019-01-13  Actual      73115987       71558  1154459  71889970     0   \n",
       "2 2019-01-20  Actual      73262502       35452   681725  72545325     0   \n",
       "3 2019-01-27  Actual      59200492      306018   676866  58217608     0   \n",
       "4 2019-02-03  Actual      45231823      225945   584756  44421122     0   \n",
       "\n",
       "   Colombia  \n",
       "0         0  \n",
       "1         0  \n",
       "2         0  \n",
       "3         0  \n",
       "4         0  "
      ]
     },
     "execution_count": 11,
     "metadata": {},
     "output_type": "execute_result"
    }
   ],
   "source": [
    "hass2019 = pd.read_csv(\"Project Resources/2019_Volume_Hass.csv\", thousands=',')\n",
    "hass2019[\"Week\"] = pd.to_datetime(hass2019[\"Week\"], infer_datetime_format=True, \n",
    "                                  format=\"%Y/%m/%d\")\n",
    "hass2019['Total Volume'] = pd.to_numeric(hass2019['Total Volume'])\n",
    "hass2019['California'] = pd.to_numeric(hass2019['California'])\n",
    "hass2019['Chile'] = pd.to_numeric(hass2019['Chile'])\n",
    "hass2019['Mexico'] = pd.to_numeric(hass2019['Mexico'])\n",
    "hass2019['Peru'] = pd.to_numeric(hass2019['Peru'])\n",
    "hass2019['Colombia'] = pd.to_numeric(hass2019['Colombia'])\n",
    "hass2019.head()"
   ]
  },
  {
   "cell_type": "code",
   "execution_count": 12,
   "metadata": {},
   "outputs": [
    {
     "data": {
      "text/html": [
       "<div>\n",
       "<style scoped>\n",
       "    .dataframe tbody tr th:only-of-type {\n",
       "        vertical-align: middle;\n",
       "    }\n",
       "\n",
       "    .dataframe tbody tr th {\n",
       "        vertical-align: top;\n",
       "    }\n",
       "\n",
       "    .dataframe thead th {\n",
       "        text-align: right;\n",
       "    }\n",
       "</style>\n",
       "<table border=\"1\" class=\"dataframe\">\n",
       "  <thead>\n",
       "    <tr style=\"text-align: right;\">\n",
       "      <th></th>\n",
       "      <th>Week</th>\n",
       "      <th>Status</th>\n",
       "      <th>Total Volume</th>\n",
       "      <th>California</th>\n",
       "      <th>Chile</th>\n",
       "      <th>Mexico</th>\n",
       "      <th>Peru</th>\n",
       "      <th>Colombia</th>\n",
       "    </tr>\n",
       "  </thead>\n",
       "  <tbody>\n",
       "    <tr>\n",
       "      <th>0</th>\n",
       "      <td>2020-01-05</td>\n",
       "      <td>Actual</td>\n",
       "      <td>32537444</td>\n",
       "      <td>37220</td>\n",
       "      <td>159041</td>\n",
       "      <td>32291182</td>\n",
       "      <td>0</td>\n",
       "      <td>50000</td>\n",
       "    </tr>\n",
       "    <tr>\n",
       "      <th>1</th>\n",
       "      <td>2020-01-12</td>\n",
       "      <td>Actual</td>\n",
       "      <td>65307572</td>\n",
       "      <td>319866</td>\n",
       "      <td>177780</td>\n",
       "      <td>64809925</td>\n",
       "      <td>0</td>\n",
       "      <td>0</td>\n",
       "    </tr>\n",
       "    <tr>\n",
       "      <th>2</th>\n",
       "      <td>2020-01-19</td>\n",
       "      <td>Actual</td>\n",
       "      <td>76375629</td>\n",
       "      <td>1604707</td>\n",
       "      <td>222755</td>\n",
       "      <td>74498167</td>\n",
       "      <td>0</td>\n",
       "      <td>50000</td>\n",
       "    </tr>\n",
       "    <tr>\n",
       "      <th>3</th>\n",
       "      <td>2020-01-26</td>\n",
       "      <td>Actual</td>\n",
       "      <td>66647112</td>\n",
       "      <td>2822485</td>\n",
       "      <td>0</td>\n",
       "      <td>63774627</td>\n",
       "      <td>0</td>\n",
       "      <td>50000</td>\n",
       "    </tr>\n",
       "    <tr>\n",
       "      <th>4</th>\n",
       "      <td>2020-02-02</td>\n",
       "      <td>Actual</td>\n",
       "      <td>45414983</td>\n",
       "      <td>2704489</td>\n",
       "      <td>0</td>\n",
       "      <td>42710494</td>\n",
       "      <td>0</td>\n",
       "      <td>0</td>\n",
       "    </tr>\n",
       "  </tbody>\n",
       "</table>\n",
       "</div>"
      ],
      "text/plain": [
       "        Week  Status  Total Volume  California   Chile    Mexico  Peru  \\\n",
       "0 2020-01-05  Actual      32537444       37220  159041  32291182     0   \n",
       "1 2020-01-12  Actual      65307572      319866  177780  64809925     0   \n",
       "2 2020-01-19  Actual      76375629     1604707  222755  74498167     0   \n",
       "3 2020-01-26  Actual      66647112     2822485       0  63774627     0   \n",
       "4 2020-02-02  Actual      45414983     2704489       0  42710494     0   \n",
       "\n",
       "   Colombia  \n",
       "0     50000  \n",
       "1         0  \n",
       "2     50000  \n",
       "3     50000  \n",
       "4         0  "
      ]
     },
     "execution_count": 12,
     "metadata": {},
     "output_type": "execute_result"
    }
   ],
   "source": [
    "hass = pd.concat([hass2020, hass2017, hass2018, hass2019], axis=0, join=\"outer\", ignore_index=False)\n",
    "hass.head()"
   ]
  },
  {
   "cell_type": "code",
   "execution_count": 13,
   "metadata": {},
   "outputs": [
    {
     "data": {
      "text/html": [
       "<div>\n",
       "<style scoped>\n",
       "    .dataframe tbody tr th:only-of-type {\n",
       "        vertical-align: middle;\n",
       "    }\n",
       "\n",
       "    .dataframe tbody tr th {\n",
       "        vertical-align: top;\n",
       "    }\n",
       "\n",
       "    .dataframe thead th {\n",
       "        text-align: right;\n",
       "    }\n",
       "</style>\n",
       "<table border=\"1\" class=\"dataframe\">\n",
       "  <thead>\n",
       "    <tr style=\"text-align: right;\">\n",
       "      <th></th>\n",
       "      <th>Week</th>\n",
       "      <th>Status</th>\n",
       "      <th>Total Volume</th>\n",
       "      <th>California</th>\n",
       "      <th>Chile</th>\n",
       "      <th>Mexico</th>\n",
       "      <th>Peru</th>\n",
       "      <th>Colombia</th>\n",
       "    </tr>\n",
       "  </thead>\n",
       "  <tbody>\n",
       "    <tr>\n",
       "      <th>0</th>\n",
       "      <td>2020-01-05</td>\n",
       "      <td>Actual</td>\n",
       "      <td>32537444</td>\n",
       "      <td>37220</td>\n",
       "      <td>159041</td>\n",
       "      <td>32291182</td>\n",
       "      <td>0</td>\n",
       "      <td>50000</td>\n",
       "    </tr>\n",
       "    <tr>\n",
       "      <th>1</th>\n",
       "      <td>2020-01-12</td>\n",
       "      <td>Actual</td>\n",
       "      <td>65307572</td>\n",
       "      <td>319866</td>\n",
       "      <td>177780</td>\n",
       "      <td>64809925</td>\n",
       "      <td>0</td>\n",
       "      <td>0</td>\n",
       "    </tr>\n",
       "    <tr>\n",
       "      <th>2</th>\n",
       "      <td>2020-01-19</td>\n",
       "      <td>Actual</td>\n",
       "      <td>76375629</td>\n",
       "      <td>1604707</td>\n",
       "      <td>222755</td>\n",
       "      <td>74498167</td>\n",
       "      <td>0</td>\n",
       "      <td>50000</td>\n",
       "    </tr>\n",
       "    <tr>\n",
       "      <th>3</th>\n",
       "      <td>2020-01-26</td>\n",
       "      <td>Actual</td>\n",
       "      <td>66647112</td>\n",
       "      <td>2822485</td>\n",
       "      <td>0</td>\n",
       "      <td>63774627</td>\n",
       "      <td>0</td>\n",
       "      <td>50000</td>\n",
       "    </tr>\n",
       "    <tr>\n",
       "      <th>4</th>\n",
       "      <td>2020-02-02</td>\n",
       "      <td>Actual</td>\n",
       "      <td>45414983</td>\n",
       "      <td>2704489</td>\n",
       "      <td>0</td>\n",
       "      <td>42710494</td>\n",
       "      <td>0</td>\n",
       "      <td>0</td>\n",
       "    </tr>\n",
       "  </tbody>\n",
       "</table>\n",
       "</div>"
      ],
      "text/plain": [
       "        Week  Status  Total Volume  California   Chile    Mexico  Peru  \\\n",
       "0 2020-01-05  Actual      32537444       37220  159041  32291182     0   \n",
       "1 2020-01-12  Actual      65307572      319866  177780  64809925     0   \n",
       "2 2020-01-19  Actual      76375629     1604707  222755  74498167     0   \n",
       "3 2020-01-26  Actual      66647112     2822485       0  63774627     0   \n",
       "4 2020-02-02  Actual      45414983     2704489       0  42710494     0   \n",
       "\n",
       "   Colombia  \n",
       "0     50000  \n",
       "1         0  \n",
       "2     50000  \n",
       "3     50000  \n",
       "4         0  "
      ]
     },
     "execution_count": 13,
     "metadata": {},
     "output_type": "execute_result"
    }
   ],
   "source": [
    "cln_hass = hass.loc[hass['Status'] == \"Actual\"]\n",
    "cln_hass.head()"
   ]
  },
  {
   "cell_type": "code",
   "execution_count": 14,
   "metadata": {},
   "outputs": [
    {
     "data": {
      "text/plain": [
       "Week            datetime64[ns]\n",
       "Status                  object\n",
       "Total Volume             int64\n",
       "California               int64\n",
       "Chile                    int64\n",
       "Mexico                   int64\n",
       "Peru                     int64\n",
       "Colombia                 int64\n",
       "dtype: object"
      ]
     },
     "execution_count": 14,
     "metadata": {},
     "output_type": "execute_result"
    }
   ],
   "source": [
    "cln_hass.dtypes"
   ]
  },
  {
   "cell_type": "code",
   "execution_count": 15,
   "metadata": {},
   "outputs": [],
   "source": [
    "Tot_Cali2017 = hass2017[\"California\"].sum()\n",
    "Tot_Cali2018 = hass2018[\"California\"].sum()\n",
    "Tot_Cali2019 = hass2019[\"California\"].sum()\n",
    "Tot_Cali2020 = hass2020[\"California\"].sum()\n",
    "Tot_Cali = Tot_Cali2017 + Tot_Cali2018 + Tot_Cali2019 + Tot_Cali2020\n",
    "\n",
    "Tot_Chile2017 = hass2017[\"Chile\"].sum()\n",
    "Tot_Chile2018 = hass2018[\"Chile\"].sum()\n",
    "Tot_Chile2019 = hass2019[\"Chile\"].sum()\n",
    "Tot_Chile2020 = hass2020[\"Chile\"].sum()\n",
    "Tot_Chile = Tot_Chile2017 + Tot_Chile2018 + Tot_Chile2019 +Tot_Chile2020\n",
    "\n",
    "Tot_Mex2017 = hass2017[\"Mexico\"].sum()\n",
    "Tot_Mex2018 = hass2018[\"Mexico\"].sum()\n",
    "Tot_Mex2019 = hass2019[\"Mexico\"].sum()\n",
    "Tot_Mex2020 = hass2020[\"Mexico\"].sum()\n",
    "Tot_Mex = Tot_Mex2017 + Tot_Mex2018 + Tot_Mex2019 + Tot_Mex2020\n",
    "\n",
    "Tot_Peru2017 = hass2017[\"Peru\"].sum()\n",
    "Tot_Peru2018 = hass2018[\"Peru\"].sum()\n",
    "Tot_Peru2019 = hass2019[\"Peru\"].sum()\n",
    "Tot_Peru2020 = hass2020[\"Peru\"].sum()\n",
    "Tot_Peru = Tot_Peru2017 + Tot_Peru2018 + Tot_Peru2019 + Tot_Peru2020\n",
    "\n",
    "Tot_Colo2017 = hass2017[\"Colombia\"].sum()\n",
    "Tot_Colo2018 = hass2018[\"Colombia\"].sum()\n",
    "Tot_Colo2019 = hass2019[\"Colombia\"].sum()\n",
    "Tot_Colo2020 = hass2020[\"Colombia\"].sum()\n",
    "Tot_Colo = Tot_Colo2017 + Tot_Colo2018 + Tot_Colo2019 + Tot_Colo2020"
   ]
  },
  {
   "cell_type": "code",
   "execution_count": 73,
   "metadata": {},
   "outputs": [
    {
     "data": {
      "text/html": [
       "<div>\n",
       "<style scoped>\n",
       "    .dataframe tbody tr th:only-of-type {\n",
       "        vertical-align: middle;\n",
       "    }\n",
       "\n",
       "    .dataframe tbody tr th {\n",
       "        vertical-align: top;\n",
       "    }\n",
       "\n",
       "    .dataframe thead th {\n",
       "        text-align: right;\n",
       "    }\n",
       "</style>\n",
       "<table border=\"1\" class=\"dataframe\">\n",
       "  <thead>\n",
       "    <tr style=\"text-align: right;\">\n",
       "      <th></th>\n",
       "      <th>2017</th>\n",
       "      <th>2018</th>\n",
       "      <th>2019</th>\n",
       "      <th>2020 (thru 7/14/2020)</th>\n",
       "      <th>Total</th>\n",
       "    </tr>\n",
       "    <tr>\n",
       "      <th></th>\n",
       "      <th></th>\n",
       "      <th></th>\n",
       "      <th></th>\n",
       "      <th></th>\n",
       "      <th></th>\n",
       "    </tr>\n",
       "  </thead>\n",
       "  <tbody>\n",
       "    <tr>\n",
       "      <th>California</th>\n",
       "      <td>202077261</td>\n",
       "      <td>312759562</td>\n",
       "      <td>203914246</td>\n",
       "      <td>361163718</td>\n",
       "      <td>1079914787</td>\n",
       "    </tr>\n",
       "    <tr>\n",
       "      <th>Chile</th>\n",
       "      <td>80895572</td>\n",
       "      <td>58117187</td>\n",
       "      <td>32605791</td>\n",
       "      <td>559576</td>\n",
       "      <td>172178126</td>\n",
       "    </tr>\n",
       "    <tr>\n",
       "      <th>Colombia</th>\n",
       "      <td>0</td>\n",
       "      <td>0</td>\n",
       "      <td>50000</td>\n",
       "      <td>1140000</td>\n",
       "      <td>1190000</td>\n",
       "    </tr>\n",
       "    <tr>\n",
       "      <th>Mexico</th>\n",
       "      <td>1734117320</td>\n",
       "      <td>1988133064</td>\n",
       "      <td>2145526431</td>\n",
       "      <td>1693819860</td>\n",
       "      <td>7561596675</td>\n",
       "    </tr>\n",
       "    <tr>\n",
       "      <th>Peru</th>\n",
       "      <td>141663747</td>\n",
       "      <td>181231912</td>\n",
       "      <td>183265197</td>\n",
       "      <td>197837369</td>\n",
       "      <td>703998225</td>\n",
       "    </tr>\n",
       "  </tbody>\n",
       "</table>\n",
       "</div>"
      ],
      "text/plain": [
       "                  2017        2018        2019  2020 (thru 7/14/2020)  \\\n",
       "                                                                        \n",
       "California   202077261   312759562   203914246              361163718   \n",
       "Chile         80895572    58117187    32605791                 559576   \n",
       "Colombia             0           0       50000                1140000   \n",
       "Mexico      1734117320  1988133064  2145526431             1693819860   \n",
       "Peru         141663747   181231912   183265197              197837369   \n",
       "\n",
       "                 Total  \n",
       "                        \n",
       "California  1079914787  \n",
       "Chile        172178126  \n",
       "Colombia       1190000  \n",
       "Mexico      7561596675  \n",
       "Peru         703998225  "
      ]
     },
     "execution_count": 73,
     "metadata": {},
     "output_type": "execute_result"
    }
   ],
   "source": [
    "TotV_Coun = pd.DataFrame({\"\":[\"California\", \"Chile\", \"Colombia\", \"Mexico\", \"Peru\"],\n",
    "                        \"2017\":[Tot_Cali2017, Tot_Chile2017, Tot_Colo2017, \n",
    "                                      Tot_Mex2017, Tot_Peru2017],\n",
    "                        \"2018\": [Tot_Cali2018, Tot_Chile2018, Tot_Colo2018, \n",
    "                                      Tot_Mex2018, Tot_Peru2018],\n",
    "                        \"2019\":[Tot_Cali2019, Tot_Chile2019, Tot_Colo2019, \n",
    "                                      Tot_Mex2019, Tot_Peru2019],\n",
    "                        \"2020 (thru 7/14/2020)\": [Tot_Cali2020, Tot_Chile2020, Tot_Colo2020, \n",
    "                                      Tot_Mex2020, Tot_Peru2020],\n",
    "                        \"Total\": [Tot_Cali, Tot_Chile, Tot_Colo, \n",
    "                                      Tot_Mex, Tot_Peru]})\n",
    "TotV_Coun = TotV_Coun.set_index(\"\")\n",
    "# TotV_Coun[\"2017\"] = TotV_Coun[\"2017\"].map(\"{:,}\".format)\n",
    "# TotV_Coun[\"2018\"] = TotV_Coun[\"2018\"].map(\"{:,}\".format)\n",
    "# TotV_Coun[\"2019\"] = TotV_Coun[\"2019\"].map(\"{:,}\".format)\n",
    "# TotV_Coun[\"2020 (thru 7/14/2020)\"] = TotV_Coun[\"2020 (thru 7/14/2020)\"].map(\"{:,}\".format)\n",
    "# TotV_Coun[\"Total\"] = TotV_Coun[\"Total\"].map(\"{:,}\".format)\n",
    "TotV_Coun.head()"
   ]
  },
  {
   "cell_type": "code",
   "execution_count": 26,
   "metadata": {},
   "outputs": [
    {
     "data": {
      "text/plain": [
       "2017                     int64\n",
       "2018                     int64\n",
       "2019                     int64\n",
       "2020 (thru 7/14/2020)    int64\n",
       "Total                    int64\n",
       "dtype: object"
      ]
     },
     "execution_count": 26,
     "metadata": {},
     "output_type": "execute_result"
    }
   ],
   "source": [
    "TotV_Coun.dtypes"
   ]
  },
  {
   "cell_type": "code",
   "execution_count": 38,
   "metadata": {},
   "outputs": [
    {
     "data": {
      "text/html": [
       "<div>\n",
       "<style scoped>\n",
       "    .dataframe tbody tr th:only-of-type {\n",
       "        vertical-align: middle;\n",
       "    }\n",
       "\n",
       "    .dataframe tbody tr th {\n",
       "        vertical-align: top;\n",
       "    }\n",
       "\n",
       "    .dataframe thead th {\n",
       "        text-align: right;\n",
       "    }\n",
       "</style>\n",
       "<table border=\"1\" class=\"dataframe\">\n",
       "  <thead>\n",
       "    <tr style=\"text-align: right;\">\n",
       "      <th></th>\n",
       "      <th>California</th>\n",
       "      <th>Chile</th>\n",
       "      <th>Mexico</th>\n",
       "      <th>Peru</th>\n",
       "      <th>Colombia</th>\n",
       "    </tr>\n",
       "    <tr>\n",
       "      <th></th>\n",
       "      <th></th>\n",
       "      <th></th>\n",
       "      <th></th>\n",
       "      <th></th>\n",
       "      <th></th>\n",
       "    </tr>\n",
       "  </thead>\n",
       "  <tbody>\n",
       "    <tr>\n",
       "      <th>2017</th>\n",
       "      <td>202,077,261</td>\n",
       "      <td>80,895,572</td>\n",
       "      <td>1,734,117,320</td>\n",
       "      <td>141,663,747</td>\n",
       "      <td>0</td>\n",
       "    </tr>\n",
       "    <tr>\n",
       "      <th>2018</th>\n",
       "      <td>312,759,562</td>\n",
       "      <td>58,117,187</td>\n",
       "      <td>1,988,133,064</td>\n",
       "      <td>181,231,912</td>\n",
       "      <td>0</td>\n",
       "    </tr>\n",
       "    <tr>\n",
       "      <th>2019</th>\n",
       "      <td>203,914,246</td>\n",
       "      <td>32,605,791</td>\n",
       "      <td>2,145,526,431</td>\n",
       "      <td>183,265,197</td>\n",
       "      <td>50,000</td>\n",
       "    </tr>\n",
       "    <tr>\n",
       "      <th>2020 (Thru 7/14/2020)</th>\n",
       "      <td>361,163,718</td>\n",
       "      <td>559,576</td>\n",
       "      <td>1,693,819,860</td>\n",
       "      <td>197,837,369</td>\n",
       "      <td>1,140,000</td>\n",
       "    </tr>\n",
       "    <tr>\n",
       "      <th>Total</th>\n",
       "      <td>1,079,914,787</td>\n",
       "      <td>172,178,126</td>\n",
       "      <td>7,561,596,675</td>\n",
       "      <td>703,998,225</td>\n",
       "      <td>1,190,000</td>\n",
       "    </tr>\n",
       "  </tbody>\n",
       "</table>\n",
       "</div>"
      ],
      "text/plain": [
       "                          California        Chile         Mexico         Peru  \\\n",
       "                                                                                \n",
       "2017                     202,077,261   80,895,572  1,734,117,320  141,663,747   \n",
       "2018                     312,759,562   58,117,187  1,988,133,064  181,231,912   \n",
       "2019                     203,914,246   32,605,791  2,145,526,431  183,265,197   \n",
       "2020 (Thru 7/14/2020)    361,163,718      559,576  1,693,819,860  197,837,369   \n",
       "Total                  1,079,914,787  172,178,126  7,561,596,675  703,998,225   \n",
       "\n",
       "                        Colombia  \n",
       "                                  \n",
       "2017                           0  \n",
       "2018                           0  \n",
       "2019                      50,000  \n",
       "2020 (Thru 7/14/2020)  1,140,000  \n",
       "Total                  1,190,000  "
      ]
     },
     "execution_count": 38,
     "metadata": {},
     "output_type": "execute_result"
    }
   ],
   "source": [
    "TotV_Yr = pd.DataFrame({\"\":[\"2017\", \"2018\", \"2019\", \"2020 (Thru 7/14/2020)\", \"Total\"],\n",
    "                        \"California\":[Tot_Cali2017, Tot_Cali2018, Tot_Cali2019, \n",
    "                                      Tot_Cali2020, Tot_Cali],\n",
    "                        \"Chile\": [Tot_Chile2017, Tot_Chile2018, Tot_Chile2019,\n",
    "                                  Tot_Chile2020, Tot_Chile],\n",
    "                        \"Mexico\":[Tot_Mex2017, Tot_Mex2018, Tot_Mex2019, \n",
    "                                  Tot_Mex2020, Tot_Mex],\n",
    "                        \"Peru\": [Tot_Peru2017, Tot_Peru2018, Tot_Peru2019, \n",
    "                                 Tot_Peru2020, Tot_Peru],\n",
    "                        \"Colombia\": [Tot_Colo2017, Tot_Colo2018, Tot_Colo2019, \n",
    "                                     Tot_Colo2020, Tot_Colo]})\n",
    "TotV_Yr = TotV_Yr.set_index(\"\")\n",
    "TotV_Yr[\"California\"] = TotV_Yr[\"California\"].map(\"{:,}\".format)\n",
    "TotV_Yr[\"Chile\"] = TotV_Yr[\"Chile\"].map(\"{:,}\".format)\n",
    "TotV_Yr[\"Mexico\"] = TotV_Yr[\"Mexico\"].map(\"{:,}\".format)\n",
    "TotV_Yr[\"Peru\"] = TotV_Yr[\"Peru\"].map(\"{:,}\".format)\n",
    "TotV_Yr[\"Colombia\"] = TotV_Yr[\"Colombia\"].map(\"{:,}\".format)\n",
    "TotV_Yr.head()"
   ]
  },
  {
   "cell_type": "code",
   "execution_count": 87,
   "metadata": {},
   "outputs": [
    {
     "data": {
      "image/png": "[encoded data removed]",
      "text/plain": [
       "<Figure size 648x666 with 1 Axes>"
      ]
     },
     "metadata": {
      "needs_background": "light"
     },
     "output_type": "display_data"
    }
   ],
   "source": [
    "tots = TotV_Coun[\"Total\"]\n",
    "plt.figure(figsize=(9,9.25))\n",
    "tots.plot(kind=\"bar\", facecolor=\"green\", rot=0)\n",
    "plt.title(\"Total Volume Data from All Countries from 1/01/2017 thru 7/14/2020\")\n",
    "plt.xlabel(\"Country\")\n",
    "plt.ylabel(\"Total Volume in Billions (lb)\")\n",
    "plt.savefig(\"total_avocado_bar.png\")\n",
    "plt.show() "
   ]
  },
  {
   "cell_type": "code",
   "execution_count": 63,
   "metadata": {},
   "outputs": [
    {
     "data": {
      "image/png": "[encoded data removed]",
      "text/plain": [
       "<Figure size 288x288 with 1 Axes>"
      ]
     },
     "metadata": {},
     "output_type": "display_data"
    }
   ],
   "source": [
    "%matplotlib inline\n",
    "tots = TotV_Coun[\"Total\"]\n",
    "countries = TotV_Coun.index.values\n",
    "colors = [\"orange\",\"pink\",\"blue\", \"green\",\"yellow\"]\n",
    "plt.figure(figsize=(4,4))\n",
    "tots.plot(kind=\"pie\", y=countries, title =\"US Total Avocado Volume (lb) from 1/01/2017 thru 7/14/2020\",\n",
    "               colors=colors, autopct=\"%1.1f%%\", shadow=True, startangle=140)\n",
    "plt.axis(\"equal\")\n",
    "plt.savefig(\"total_avocado_pie.png\")\n",
    "plt.show()"
   ]
  },
  {
   "cell_type": "code",
   "execution_count": 64,
   "metadata": {},
   "outputs": [
    {
     "data": {
      "image/png": "[encoded data removed]",
      "text/plain": [
       "<Figure size 648x666 with 1 Axes>"
      ]
     },
     "metadata": {
      "needs_background": "light"
     },
     "output_type": "display_data"
    }
   ],
   "source": [
    "tots = TotV_Coun[\"2017\"]\n",
    "plt.figure(figsize=(9,9.25))\n",
    "tots.plot(kind=\"bar\", facecolor=\"green\", rot=0)\n",
    "plt.title(\"Total Volume Data from All Countries for 2017\")\n",
    "plt.xlabel(\"Country\")\n",
    "plt.ylabel(\"Total Volume in Billions (lb)\")\n",
    "plt.savefig(\"total_avocado_bar2017.png\")\n",
    "plt.show()"
   ]
  },
  {
   "cell_type": "code",
   "execution_count": 66,
   "metadata": {},
   "outputs": [
    {
     "data": {
      "image/png": "[encoded data removed]",
      "text/plain": [
       "<Figure size 288x288 with 1 Axes>"
      ]
     },
     "metadata": {},
     "output_type": "display_data"
    }
   ],
   "source": [
    "%matplotlib inline\n",
    "tots = TotV_Coun[\"2017\"]\n",
    "countries = TotV_Coun.index.values\n",
    "colors = [\"orange\",\"pink\",\"blue\", \"green\",\"yellow\"]\n",
    "plt.figure(figsize=(4,4))\n",
    "tots.plot(kind=\"pie\", y=countries, title =\"US Total Avocado Volume (lb) for 2017\",\n",
    "               colors=colors, autopct=\"%1.1f%%\", shadow=True, startangle=140)\n",
    "plt.axis(\"equal\")\n",
    "plt.savefig(\"total_avocado_pie2017.png\")\n",
    "plt.show()"
   ]
  },
  {
   "cell_type": "code",
   "execution_count": 67,
   "metadata": {},
   "outputs": [
    {
     "data": {
      "image/png": "[encoded data removed]",
      "text/plain": [
       "<Figure size 648x666 with 1 Axes>"
      ]
     },
     "metadata": {
      "needs_background": "light"
     },
     "output_type": "display_data"
    }
   ],
   "source": [
    "tots = TotV_Coun[\"2018\"]\n",
    "plt.figure(figsize=(9,9.25))\n",
    "tots.plot(kind=\"bar\", facecolor=\"green\", rot=0)\n",
    "plt.title(\"Total Volume Data from All Countries for 2018\")\n",
    "plt.xlabel(\"Country\")\n",
    "plt.ylabel(\"Total Volume in Billions (lb)\")\n",
    "plt.savefig(\"total_avocado_bar2018.png\")\n",
    "plt.show()"
   ]
  },
  {
   "cell_type": "code",
   "execution_count": 68,
   "metadata": {},
   "outputs": [
    {
     "data": {
      "image/png": "[encoded data removed]",
      "text/plain": [
       "<Figure size 288x288 with 1 Axes>"
      ]
     },
     "metadata": {},
     "output_type": "display_data"
    }
   ],
   "source": [
    "%matplotlib inline\n",
    "tots = TotV_Coun[\"2018\"]\n",
    "countries = TotV_Coun.index.values\n",
    "colors = [\"orange\",\"pink\",\"blue\", \"green\",\"yellow\"]\n",
    "plt.figure(figsize=(4,4))\n",
    "tots.plot(kind=\"pie\", y=countries, title =\"US Total Avocado Volume (lb) for 2018\",\n",
    "               colors=colors, autopct=\"%1.1f%%\", shadow=True, startangle=140)\n",
    "plt.axis(\"equal\")\n",
    "plt.savefig(\"total_avocado_pie2018.png\")\n",
    "plt.show()"
   ]
  },
  {
   "cell_type": "code",
   "execution_count": 69,
   "metadata": {},
   "outputs": [
    {
     "data": {
      "image/png": "[encoded data removed]",
      "text/plain": [
       "<Figure size 648x666 with 1 Axes>"
      ]
     },
     "metadata": {
      "needs_background": "light"
     },
     "output_type": "display_data"
    }
   ],
   "source": [
    "tots = TotV_Coun[\"2019\"]\n",
    "plt.figure(figsize=(9,9.25))\n",
    "tots.plot(kind=\"bar\", facecolor=\"green\", rot=0)\n",
    "plt.title(\"Total Volume Data from All Countries for 2019\")\n",
    "plt.xlabel(\"Country\")\n",
    "plt.ylabel(\"Total Volume in Billions (lb)\")\n",
    "plt.savefig(\"total_avocado_bar2019.png\")\n",
    "plt.show()"
   ]
  },
  {
   "cell_type": "code",
   "execution_count": 70,
   "metadata": {},
   "outputs": [
    {
     "data": {
      "image/png": "[encoded data removed]",
      "text/plain": [
       "<Figure size 288x288 with 1 Axes>"
      ]
     },
     "metadata": {},
     "output_type": "display_data"
    }
   ],
   "source": [
    "%matplotlib inline\n",
    "tots = TotV_Coun[\"2019\"]\n",
    "countries = TotV_Coun.index.values\n",
    "colors = [\"orange\",\"pink\",\"blue\", \"green\",\"yellow\"]\n",
    "plt.figure(figsize=(4,4))\n",
    "tots.plot(kind=\"pie\", y=countries, title =\"US Total Avocado Volume (lb) for 2019\",\n",
    "               colors=colors, autopct=\"%1.1f%%\", shadow=True, startangle=140)\n",
    "plt.axis(\"equal\")\n",
    "plt.savefig(\"total_avocado_pie2019.png\")\n",
    "plt.show()"
   ]
  },
  {
   "cell_type": "code",
   "execution_count": 75,
   "metadata": {},
   "outputs": [
    {
     "data": {
      "image/png": "[encoded data removed]",
      "text/plain": [
       "<Figure size 648x666 with 1 Axes>"
      ]
     },
     "metadata": {
      "needs_background": "light"
     },
     "output_type": "display_data"
    }
   ],
   "source": [
    "tots = TotV_Coun[\"2020 (thru 7/14/2020)\"]\n",
    "plt.figure(figsize=(9,9.25))\n",
    "tots.plot(kind=\"bar\", facecolor=\"green\", rot=0)\n",
    "plt.title(\"Total Volume Data from All Countries for 2020 (thru 7/14/2020)\")\n",
    "plt.xlabel(\"Country\")\n",
    "plt.ylabel(\"Total Volume in Billions (lb)\")\n",
    "plt.savefig(\"total_avocado_bar2020.png\")\n",
    "plt.show()"
   ]
  },
  {
   "cell_type": "code",
   "execution_count": 77,
   "metadata": {},
   "outputs": [
    {
     "data": {
      "image/png": "[encoded data removed]",
      "text/plain": [
       "<Figure size 288x288 with 1 Axes>"
      ]
     },
     "metadata": {},
     "output_type": "display_data"
    }
   ],
   "source": [
    "%matplotlib inline\n",
    "tots = TotV_Coun[\"2020 (thru 7/14/2020)\"]\n",
    "countries = TotV_Coun.index.values\n",
    "colors = [\"orange\",\"pink\",\"blue\", \"green\",\"yellow\"]\n",
    "plt.figure(figsize=(4,4))\n",
    "tots.plot(kind=\"pie\", y=countries, title =\"US Total Avocado Volume (lb) for 2020 (thru 7/14/2020)\",\n",
    "               colors=colors, autopct=\"%1.1f%%\", shadow=True, startangle=140)\n",
    "plt.axis(\"equal\")\n",
    "plt.savefig(\"total_avocado_pie2020.png\")\n",
    "plt.show()"
   ]
  },
  {
   "cell_type": "code",
   "execution_count": null,
   "metadata": {},
   "outputs": [],
   "source": []
  }
 ],
 "metadata": {
  "kernelspec": {
   "display_name": "Python 3",
   "language": "python",
   "name": "python3"
  },
  "language_info": {
   "codemirror_mode": {
    "name": "ipython",
    "version": 3
   },
   "file_extension": ".py",
   "mimetype": "text/x-python",
   "name": "python",
   "nbconvert_exporter": "python",
   "pygments_lexer": "ipython3",
   "version": "3.6.10"
  }
 },
 "nbformat": 4,
 "nbformat_minor": 4
}
